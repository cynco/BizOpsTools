{
 "cells": [
  {
   "cell_type": "code",
   "execution_count": 1,
   "metadata": {},
   "outputs": [],
   "source": [
    "import smtplib\n",
    "from email.mime.text import MIMEText # email is probably built in function, didn't have to pip install\n",
    "from email.mime.multipart import MIMEMultipart\n",
    "from email.mime.application import MIMEApplication\n",
    "from os.path import basename"
   ]
  },
  {
   "cell_type": "code",
   "execution_count": 2,
   "metadata": {},
   "outputs": [],
   "source": [
    "def send_mail(send_from: str, subject: str, text: str, \n",
    "send_to: list, files= None):\n",
    "\n",
    "    send_to= default_address if not send_to else send_to\n",
    "\n",
    "    msg = MIMEMultipart()\n",
    "    msg['From'] = send_from\n",
    "    msg['To'] = ', '.join(send_to)  \n",
    "    msg['Subject'] = subject\n",
    "\n",
    "    msg.attach(MIMEText(text))\n",
    "\n",
    "    for f in files or []:\n",
    "        with open(f, \"rb\") as fil: \n",
    "            ext = f.split('.')[-1:]\n",
    "            attachedfile = MIMEApplication(fil.read(), _subtype = ext)\n",
    "            attachedfile.add_header(\n",
    "                'content-disposition', 'attachment', filename=basename(f) )\n",
    "        msg.attach(attachedfile)\n",
    "\n",
    "\n",
    "    smtp = smtplib.SMTP(host=\"smtp.gmail.com\", port= 587) \n",
    "    smtp.starttls()\n",
    "    smtp.login(username,password)\n",
    "    smtp.sendmail(send_from, send_to, msg.as_string())\n",
    "    smtp.close()"
   ]
  },
  {
   "cell_type": "code",
   "execution_count": 3,
   "metadata": {},
   "outputs": [],
   "source": [
    "username = 'ResyReportMailer@gmail.com'  # address being sent from\n",
    "password = 'TempPassword123'\n",
    "default_address = ['ResyReportMailer+1@gmail.com'] # address being sent to"
   ]
  },
  {
   "cell_type": "code",
   "execution_count": 5,
   "metadata": {},
   "outputs": [],
   "source": [
    "send_mail(send_from= username,\n",
    "          subject=\"new weekly report\",\n",
    "          text=\"here's your report\",\n",
    "          send_to= None,\n",
    "          files=['report_sample.rtf'])\n",
    "\n",
    "# This currently worked\n",
    "# https://myaccount.google.com/u/1/lesssecureapps?pageId=none\n",
    "\n",
    "# allow less secure apps"
   ]
  },
  {
   "cell_type": "code",
   "execution_count": null,
   "metadata": {},
   "outputs": [],
   "source": []
  }
 ],
 "metadata": {
  "kernelspec": {
   "display_name": "Python 3",
   "language": "python",
   "name": "python3"
  },
  "language_info": {
   "codemirror_mode": {
    "name": "ipython",
    "version": 3
   },
   "file_extension": ".py",
   "mimetype": "text/x-python",
   "name": "python",
   "nbconvert_exporter": "python",
   "pygments_lexer": "ipython3",
   "version": "3.6.5"
  },
  "toc": {
   "base_numbering": 1,
   "nav_menu": {},
   "number_sections": true,
   "sideBar": true,
   "skip_h1_title": false,
   "title_cell": "Table of Contents",
   "title_sidebar": "Contents",
   "toc_cell": false,
   "toc_position": {},
   "toc_section_display": true,
   "toc_window_display": false
  }
 },
 "nbformat": 4,
 "nbformat_minor": 2
}
